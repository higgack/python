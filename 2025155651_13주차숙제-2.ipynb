{
 "cells": [
  {
   "cell_type": "code",
   "execution_count": 2,
   "id": "b196732e-4278-44a1-a0ed-9d7a6b8452fc",
   "metadata": {},
   "outputs": [
    {
     "name": "stdout",
     "output_type": "stream",
     "text": [
      "Empty DataFrame\n",
      "Columns: []\n",
      "Index: []\n"
     ]
    }
   ],
   "source": [
    "import requests\n",
    "from bs4 import BeautifulSoup\n",
    "import pandas as pd\n",
    "\n",
    "url = 'http://www.yes24.com/24/Category/BestSeller'\n",
    "\n",
    "response = requests.get(url)\n",
    "html = response.text\n",
    "soup = BeautifulSoup(html, 'html.parser')\n",
    "\n",
    "books_list = []\n",
    "\n",
    "book_items = soup.select(\"li.item_goods\") \n",
    "\n",
    "for item in book_items:\n",
    "    title_tag = item.select_one('a.gd_name')\n",
    "    title = title_tag.text.strip() if title_tag else '제목 없음'\n",
    "\n",
    "    author_tag = item.select_one('span.auth_pub')\n",
    "    author = author_tag.text.strip().split(' | ')[0] if author_tag else '저자 정보 없음'\n",
    "\n",
    "    price_tag = item.select_one('em.yes_b')\n",
    "    price = int(price_tag.text.strip().replace(',', '')) if price_tag else 0\n",
    "\n",
    "    books_list.append({\n",
    "        'Title': title,\n",
    "        'Author': author,\n",
    "        'Price': price\n",
    "    })\n",
    "\n",
    "df_books = pd.DataFrame(books_list)\n",
    "\n",
    "print(df_books.head())"
   ]
  },
  {
   "cell_type": "code",
   "execution_count": null,
   "id": "f71c526c-35be-45cb-a4e1-eb9bac35194b",
   "metadata": {},
   "outputs": [],
   "source": []
  }
 ],
 "metadata": {
  "kernelspec": {
   "display_name": "Python 3 (ipykernel)",
   "language": "python",
   "name": "python3"
  },
  "language_info": {
   "codemirror_mode": {
    "name": "ipython",
    "version": 3
   },
   "file_extension": ".py",
   "mimetype": "text/x-python",
   "name": "python",
   "nbconvert_exporter": "python",
   "pygments_lexer": "ipython3",
   "version": "3.12.7"
  }
 },
 "nbformat": 4,
 "nbformat_minor": 5
}
