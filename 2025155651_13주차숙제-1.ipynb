{
 "cells": [
  {
   "cell_type": "code",
   "execution_count": 12,
   "id": "4e04f3be-387a-4c41-a2d6-d0d28c88ce38",
   "metadata": {},
   "outputs": [
    {
     "name": "stdout",
     "output_type": "stream",
     "text": [
      "menu\n"
     ]
    },
    {
     "data": {
      "text/plain": [
       "xml.etree.ElementTree.Element"
      ]
     },
     "execution_count": 12,
     "metadata": {},
     "output_type": "execute_result"
    }
   ],
   "source": [
    "import xml.etree.ElementTree as et\n",
    "\n",
    "tree = et.ElementTree(file='menu.xml')\n",
    "root = tree.getroot()\n",
    "\n",
    "print(root.tag)\n",
    "type(root)"
   ]
  },
  {
   "cell_type": "code",
   "execution_count": 13,
   "id": "de95391f-9d75-43ca-9d49-1458ddf5bd61",
   "metadata": {},
   "outputs": [
    {
     "name": "stdout",
     "output_type": "stream",
     "text": [
      "tag: breakfast attributes: {'hours': '7-11'}\n",
      "\ttag: item attributes: {'price': '$6.00'}\n",
      "\ttag: item attributes: {'price': '$4.00'}\n",
      "tag: lunch attributes: {'hours': '11-3'}\n",
      "\ttag: item attributes: {'price': '$5.00'}\n",
      "tag: dinner attributes: {'hours': '3-10'}\n",
      "\ttag: item attributes: {'price': '8.00'}\n"
     ]
    }
   ],
   "source": [
    "for child in root:\n",
    "    print('tag:', child.tag, 'attributes:', child.attrib)\n",
    "    for grandchild in child:\n",
    "        print('\\ttag:', grandchild.tag, 'attributes:', grandchild.attrib)"
   ]
  },
  {
   "cell_type": "code",
   "execution_count": 15,
   "id": "719f9337-46b9-494b-b5b0-0e91f0fe801f",
   "metadata": {},
   "outputs": [
    {
     "name": "stdout",
     "output_type": "stream",
     "text": [
      "root[0]의 타입: <class 'xml.etree.ElementTree.Element'>\n",
      "menu의 하위 태그 수: 3\n",
      "breakfast의 item 수: 2\n",
      "<Element 'breakfast' at 0x00000167B38E22F0>\n",
      "7-11\n",
      "['hours']\n",
      "[('hours', '7-11')]\n"
     ]
    }
   ],
   "source": [
    "print(f\"root[0]의 타입: {type(root[0])}\")\n",
    "print(f\"menu의 하위 태그 수: {len(root)}\")\n",
    "print(f\"breakfast의 item 수: {len(root[0])}\")\n",
    "print(root[0])\n",
    "print(root[0].get(\"hours\"))\n",
    "print(root[0].keys())\n",
    "print(root[0].items())"
   ]
  },
  {
   "cell_type": "code",
   "execution_count": 16,
   "id": "169e2751-f601-4406-a4f8-7f2d9f6b3ae3",
   "metadata": {},
   "outputs": [
    {
     "name": "stdout",
     "output_type": "stream",
     "text": [
      "<Element 'lunch' at 0x00000167B38E23E0>\n",
      "11-3\n",
      "['hours']\n",
      "[('hours', '11-3')]\n"
     ]
    },
    {
     "data": {
      "text/plain": [
       "xml.etree.ElementTree.Element"
      ]
     },
     "execution_count": 16,
     "metadata": {},
     "output_type": "execute_result"
    }
   ],
   "source": [
    "lunch = root.find(\"lunch\")\n",
    "\n",
    "print(lunch)\n",
    "print(lunch.get(\"hours\"))\n",
    "print(lunch.keys())\n",
    "print(lunch.items())\n",
    "type(lunch)"
   ]
  },
  {
   "cell_type": "code",
   "execution_count": 18,
   "id": "a53bf443-92ed-494b-aeee-a906c826a5da",
   "metadata": {},
   "outputs": [
    {
     "name": "stdout",
     "output_type": "stream",
     "text": [
      "[<Element 'item' at 0x00000167B38E2340>, <Element 'item' at 0x00000167B38E2390>]\n",
      "$6.00\n",
      "breakfast burritos\n",
      "$4.00\n",
      "pancakes\n"
     ]
    }
   ],
   "source": [
    "print(root[0].findall('item'))\n",
    "\n",
    "for item in root[0].findall('item'):\n",
    "    print(item.get('price'))\n",
    "    print(item.text)"
   ]
  },
  {
   "cell_type": "code",
   "execution_count": 19,
   "id": "f4181670-214f-4e34-a5b1-fcbe47a1b8fd",
   "metadata": {},
   "outputs": [
    {
     "name": "stdout",
     "output_type": "stream",
     "text": [
      "Original Dictionary: {'name': '홍길동', 'birth': '0525', 'age': 30}\n",
      "JSON String: {\"name\": \"\\ud64d\\uae38\\ub3d9\", \"birth\": \"0525\", \"age\": 30}\n"
     ]
    }
   ],
   "source": [
    "import json\n",
    "\n",
    "j1 = {\"name\":\"홍길동\", \"birth\":\"0525\", \"age\": 30}\n",
    "print(\"Original Dictionary:\", j1)\n",
    "\n",
    "json_string = json.dumps(j1)\n",
    "print(\"JSON String:\", json_string)"
   ]
  },
  {
   "cell_type": "code",
   "execution_count": 20,
   "id": "9c7d170a-031e-4592-bfdf-b128baf47b76",
   "metadata": {},
   "outputs": [
    {
     "name": "stdout",
     "output_type": "stream",
     "text": [
      "{\n",
      "  \"name\": \"홍길동\",\n",
      "  \"birth\": \"0525\",\n",
      "  \"age\": 30\n",
      "}\n",
      "List to JSON: [1, 2, 3]\n",
      "Tuple to JSON: [4, 5, 6]\n"
     ]
    }
   ],
   "source": [
    "print(json.dumps(j1, indent=2, ensure_ascii=False))\n",
    "\n",
    "list_to_json = json.dumps([1, 2, 3])\n",
    "tuple_to_json = json.dumps((4, 5, 6))\n",
    "\n",
    "print(\"List to JSON:\", list_to_json)\n",
    "print(\"Tuple to JSON:\", tuple_to_json)"
   ]
  },
  {
   "cell_type": "code",
   "execution_count": 21,
   "id": "a24f8f40-7df3-428e-962a-6795265fe7b0",
   "metadata": {},
   "outputs": [
    {
     "name": "stdout",
     "output_type": "stream",
     "text": [
      "Original JSON string: {\"name\": \"\\ud64d\\uae38\\ub3d9\", \"birth\": \"0525\", \"age\": 30}\n",
      "Converted Python object: {'name': '홍길동', 'birth': '0525', 'age': 30}\n",
      "Type of converted object: <class 'dict'>\n"
     ]
    }
   ],
   "source": [
    "d1 = json.dumps(j1)\n",
    "\n",
    "py_obj = json.loads(d1)\n",
    "\n",
    "print(\"Original JSON string:\", d1)\n",
    "print(\"Converted Python object:\", py_obj)\n",
    "print(\"Type of converted object:\", type(py_obj))"
   ]
  },
  {
   "cell_type": "code",
   "execution_count": 22,
   "id": "ac2c4079-d978-416a-aacf-6531ad984f23",
   "metadata": {},
   "outputs": [
    {
     "name": "stdout",
     "output_type": "stream",
     "text": [
      "<class 'dict'>\n",
      "{'name': '홍길동', 'birth': '0525', 'age': 30}\n"
     ]
    }
   ],
   "source": [
    "myinfo_content = \"\"\"\n",
    "{\n",
    "  \"name\": \"홍길동\",\n",
    "  \"birth\": \"0525\",\n",
    "  \"age\": 30\n",
    "}\n",
    "\"\"\"\n",
    "with open('myinfo.json', 'w', encoding='utf-8') as f:\n",
    "    f.write(myinfo_content)\n",
    "\n",
    "with open('./myinfo.json', encoding='utf-8') as f:\n",
    "    data = json.load(f)\n",
    "\n",
    "print(type(data))\n",
    "print(data)"
   ]
  },
  {
   "cell_type": "code",
   "execution_count": 23,
   "id": "c81809bf-d4af-489d-b8b2-f1287698cdab",
   "metadata": {},
   "outputs": [
    {
     "name": "stdout",
     "output_type": "stream",
     "text": [
      "b'<html>\\n<head>\\n<title>A Useful Page</title>\\n</head>\\n<body>\\n<h1>An Interesting Title</h1>\\n<div>\\nLorem ipsum dolor sit amet, consectetur adipisicing elit, sed do eiusmod tempor incididunt ut labore et dolore magna aliqua. Ut enim ad minim veniam, quis nostrud exercitation ullamco laboris nisi ut aliquip ex ea commodo consequat. Duis aute irure dolor in reprehenderit in voluptate velit esse cillum dolore eu fugiat nulla pariatur. Excepteur sint occaecat cupidatat non proident, sunt in culpa qui officia deserunt mollit anim id est laborum.\\n</div>\\n</body>\\n</html>\\n'\n"
     ]
    }
   ],
   "source": [
    "from urllib.request import urlopen\n",
    "\n",
    "html = urlopen(\"http://pythonscraping.com/pages/page1.html\")\n",
    "content = html.read()\n",
    "\n",
    "print(content)"
   ]
  },
  {
   "cell_type": "code",
   "execution_count": 24,
   "id": "44a92732-cac6-40c8-b1b7-91604fea8dee",
   "metadata": {},
   "outputs": [
    {
     "name": "stdout",
     "output_type": "stream",
     "text": [
      "<h1>An Interesting Title</h1>\n"
     ]
    }
   ],
   "source": [
    "from bs4 import BeautifulSoup\n",
    "\n",
    "html = urlopen(\"http://pythonscraping.com/pages/page1.html\")\n",
    "bsObj = BeautifulSoup(html.read(), \"html.parser\")\n",
    "\n",
    "print(bsObj.h1)"
   ]
  },
  {
   "cell_type": "code",
   "execution_count": 25,
   "id": "eb767d61-6b94-4246-9262-36d36cdfaaae",
   "metadata": {},
   "outputs": [
    {
     "name": "stdout",
     "output_type": "stream",
     "text": [
      "bsObj.h1: <h1>An Interesting Title</h1>\n",
      "bsObj.html.body.h1: <h1>An Interesting Title</h1>\n",
      "\n",
      "--- prettify() output ---\n",
      "<html>\n",
      " <head>\n",
      "  <title>\n",
      "   A Useful Page\n",
      "  </title>\n",
      " </head>\n",
      " <body>\n",
      "  <h1>\n",
      "   An Interesting Title\n",
      "  </h1>\n",
      "  <div>\n",
      "   Lorem ipsum dolor sit amet, consectetur adipisicing elit, sed do eiusmod tempor incididunt ut labore et dolore magna aliqua. Ut enim ad minim veniam, quis nostrud exercitation ullamco laboris nisi ut aliquip ex ea commodo consequat. Duis aute irure dolor in reprehenderit in voluptate velit esse cillum dolore eu fugiat nulla pariatur. Excepteur sint occaecat cupidatat non proident, sunt in culpa qui officia deserunt mollit anim id est laborum.\n",
      "  </div>\n",
      " </body>\n",
      "</html>\n",
      "\n"
     ]
    }
   ],
   "source": [
    "print(\"bsObj.h1:\", bsObj.h1)\n",
    "print(\"bsObj.html.body.h1:\", bsObj.html.body.h1)\n",
    "\n",
    "print(\"\\n--- prettify() output ---\")\n",
    "print(bsObj.html.prettify())"
   ]
  },
  {
   "cell_type": "code",
   "execution_count": null,
   "id": "e9e5dcd5-b6ca-4b9a-b629-31c8ec5ee337",
   "metadata": {},
   "outputs": [],
   "source": []
  }
 ],
 "metadata": {
  "kernelspec": {
   "display_name": "Python 3 (ipykernel)",
   "language": "python",
   "name": "python3"
  },
  "language_info": {
   "codemirror_mode": {
    "name": "ipython",
    "version": 3
   },
   "file_extension": ".py",
   "mimetype": "text/x-python",
   "name": "python",
   "nbconvert_exporter": "python",
   "pygments_lexer": "ipython3",
   "version": "3.12.7"
  }
 },
 "nbformat": 4,
 "nbformat_minor": 5
}
