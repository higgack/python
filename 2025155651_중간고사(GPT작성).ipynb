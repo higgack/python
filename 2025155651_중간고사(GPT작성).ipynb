{
  "nbformat": 4,
  "nbformat_minor": 0,
  "metadata": {
    "colab": {
      "provenance": [],
      "authorship_tag": "ABX9TyMZzze3Vh0Fe1iC5kEURrw2",
      "include_colab_link": true
    },
    "kernelspec": {
      "name": "python3",
      "display_name": "Python 3"
    },
    "language_info": {
      "name": "python"
    }
  },
  "cells": [
    {
      "cell_type": "markdown",
      "metadata": {
        "id": "view-in-github",
        "colab_type": "text"
      },
      "source": [
        "<a href=\"https://colab.research.google.com/github/higgack/python/blob/main/2025155651_%EC%A4%91%EA%B0%84%EA%B3%A0%EC%82%AC(GPT%EC%9E%91%EC%84%B1).ipynb\" target=\"_parent\"><img src=\"https://colab.research.google.com/assets/colab-badge.svg\" alt=\"Open In Colab\"/></a>"
      ]
    },
    {
      "cell_type": "code",
      "execution_count": null,
      "metadata": {
        "colab": {
          "base_uri": "https://localhost:8080/"
        },
        "id": "H_G9vYcemCvH",
        "outputId": "4c1893c8-f1db-4987-cde8-97b281ad5915"
      },
      "outputs": [
        {
          "output_type": "stream",
          "name": "stdout",
          "text": [
            "정수를 입력하세요 (-1 입력 시 종료): -1\n",
            "프로그램을 종료합니다.\n"
          ]
        }
      ],
      "source": [
        "#[문제 1] 사용자로부터 정수를 반복적으로 입력받아 짝수와 홀수를 구분하여 출력하는 프로그램을 작성하시오.\n",
        "#종료 조건: -1을 입력하면 종료\n",
        "#출력 예: \"3은 홀수입니다.\", \"10은 짝수입니다.\"\n",
        "\n",
        "#B : GPT 코딩\n",
        "while True:\n",
        "    num = int(input(\"정수를 입력하세요 (-1 입력 시 종료): \"))\n",
        "    if num == -1:\n",
        "        print(\"프로그램을 종료합니다.\")\n",
        "        break\n",
        "    if num % 2 == 0:\n",
        "        print(f\"{num}은 짝수입니다.\")\n",
        "    else:\n",
        "        print(f\"{num}은 홀수입니다.\")"
      ]
    },
    {
      "cell_type": "code",
      "source": [
        "#[문제 2] 숫자 하나(2~9)를 입력받아 해당 숫자의 구구단을 출력하는 프로그램을 작성하시오.\n",
        "#잘못된 숫자를 입력하면 \"2~9 사이의 수를 입력하세요\" 출력\n",
        "#종료 조건: 0을 입력하면 종료\n",
        "\n",
        "#B : GPT 코딩\n",
        "while True:\n",
        "    num = int(input(\"구구단을 출력할 숫자를 입력하세요 (2~9, 종료는 0): \"))\n",
        "\n",
        "    if num == 0:\n",
        "        print(\"프로그램을 종료합니다.\")\n",
        "        break\n",
        "\n",
        "    if 2 <= num <= 9:\n",
        "        print(f\"=== {num}단 ===\")\n",
        "        for i in range(1, 10):\n",
        "            print(f\"{num} x {i} = {num * i}\")\n",
        "    else:\n",
        "        print(\"2~9 사이의 수를 입력하세요.\")\n"
      ],
      "metadata": {
        "colab": {
          "base_uri": "https://localhost:8080/"
        },
        "id": "1So7ZeWZpjZX",
        "outputId": "84ef3ed1-fff9-4d19-b936-699908530bc4"
      },
      "execution_count": null,
      "outputs": [
        {
          "output_type": "stream",
          "name": "stdout",
          "text": [
            "구구단을 출력할 숫자를 입력하세요 (2~9, 종료는 0): 0\n",
            "프로그램을 종료합니다.\n"
          ]
        }
      ]
    },
    {
      "cell_type": "code",
      "source": [
        "#[문제 3] 학생 10명의 이름과 점수를 입력받아, 점수가 60점 이상이면 \"합격\", 아니면 \"불합격\"으로 표시하고, 전체 평균을 함께 출력하는 프로그램을 작성하시오.\n",
        "\n",
        "#B : GPT 코딩\n",
        "total_score = 0  # 전체 총점\n",
        "num_students = 10  # 학생 수\n",
        "\n",
        "for i in range(1, num_students + 1):\n",
        "    name = input(f\"{i}번째 학생 이름을 입력하세요: \")\n",
        "    score = int(input(f\"{name}의 점수를 입력하세요: \"))\n",
        "\n",
        "    if score >= 60:\n",
        "        result = \"합격\"\n",
        "    else:\n",
        "        result = \"불합격\"\n",
        "\n",
        "    print(f\"{name}은(는) {result}입니다.\")\n",
        "    total_score += score\n",
        "\n",
        "average = total_score / num_students\n",
        "print(f\"\\n전체 평균 점수는 {average:.2f}점입니다.\")\n"
      ],
      "metadata": {
        "colab": {
          "base_uri": "https://localhost:8080/"
        },
        "id": "y-sknbBOpxh8",
        "outputId": "7f7330dc-f6e9-44b3-9427-6c4b416a77b5"
      },
      "execution_count": null,
      "outputs": [
        {
          "output_type": "stream",
          "name": "stdout",
          "text": [
            "1번째 학생 이름을 입력하세요: 이형규\n",
            "이형규의 점수를 입력하세요: 60\n",
            "이형규은(는) 합격입니다.\n",
            "2번째 학생 이름을 입력하세요: 홍길동\n",
            "홍길동의 점수를 입력하세요: 50\n",
            "홍길동은(는) 불합격입니다.\n",
            "3번째 학생 이름을 입력하세요: 박성실\n",
            "박성실의 점수를 입력하세요: 70\n",
            "박성실은(는) 합격입니다.\n",
            "4번째 학생 이름을 입력하세요: 김상실\n",
            "김상실의 점수를 입력하세요: 40\n",
            "김상실은(는) 불합격입니다.\n",
            "5번째 학생 이름을 입력하세요: MOT\n",
            "MOT의 점수를 입력하세요: 80\n",
            "MOT은(는) 합격입니다.\n",
            "6번째 학생 이름을 입력하세요: MBA\n",
            "MBA의 점수를 입력하세요: 30\n",
            "MBA은(는) 불합격입니다.\n",
            "7번째 학생 이름을 입력하세요: 장영실\n",
            "장영실의 점수를 입력하세요: 90\n",
            "장영실은(는) 합격입니다.\n",
            "8번째 학생 이름을 입력하세요: 최문호\n",
            "최문호의 점수를 입력하세요: 45\n",
            "최문호은(는) 불합격입니다.\n",
            "9번째 학생 이름을 입력하세요: 김영미\n",
            "김영미의 점수를 입력하세요: 100\n",
            "김영미은(는) 합격입니다.\n",
            "10번째 학생 이름을 입력하세요: 그만해\n",
            "그만해의 점수를 입력하세요: 10\n",
            "그만해은(는) 불합격입니다.\n",
            "\n",
            "전체 평균 점수는 57.50점입니다.\n"
          ]
        }
      ]
    },
    {
      "cell_type": "code",
      "source": [
        "#[문제 4] 사용자가 입력한 문자열이 다음 조건을 모두 만족하는지 확인하는 프로그램을 작성하시오.\n",
        "#조건: 8자 이상, 숫자 포함, 영문 대문자 포함, 영문 소문자 포함\n",
        "#조건을 모두 만족하면 \"사용 가능한 비밀번호입니다.\", 아니면 \"조건을 만족하지 않습니다.\"를 출력\n",
        "#반복 입력, \"exit\" 입력 시 종료\n",
        "\n",
        "#B : GPT 코딩\n",
        "while True:\n",
        "    pw = input(\"비밀번호를 입력하세요 (exit 입력 시 종료): \")\n",
        "\n",
        "    if pw == \"exit\":\n",
        "        print(\"프로그램을 종료합니다.\")\n",
        "        break\n",
        "\n",
        "    # 조건 검사\n",
        "    length_check = len(pw) >= 8\n",
        "    digit_check = any(char.isdigit() for char in pw)\n",
        "    upper_check = any(char.isupper() for char in pw)\n",
        "    lower_check = any(char.islower() for char in pw)\n",
        "\n",
        "    if length_check and digit_check and upper_check and lower_check:\n",
        "        print(\"사용 가능한 비밀번호입니다.\")\n",
        "    else:\n",
        "        print(\"조건을 만족하지 않습니다.\")"
      ],
      "metadata": {
        "colab": {
          "base_uri": "https://localhost:8080/"
        },
        "id": "h42eBdC9qDL6",
        "outputId": "41c22498-390c-435c-f8de-45e0d0e97acc"
      },
      "execution_count": null,
      "outputs": [
        {
          "output_type": "stream",
          "name": "stdout",
          "text": [
            "비밀번호를 입력하세요 (exit 입력 시 종료): Power4760!@\n",
            "사용 가능한 비밀번호입니다.\n",
            "비밀번호를 입력하세요 (exit 입력 시 종료): power\n",
            "조건을 만족하지 않습니다.\n",
            "비밀번호를 입력하세요 (exit 입력 시 종료): exit\n",
            "프로그램을 종료합니다.\n"
          ]
        }
      ]
    },
    {
      "cell_type": "code",
      "source": [
        "#[문제 5] 프로그램이 1부터 100 사이의 무작위 숫자를 생성하고, 사용자가 맞출 때까지 숫자를 입력하도록 하세요.\n",
        "#입력한 숫자가 정답보다 크면 \"Down\", 작으면 \"Up\"을 출력\n",
        "#정답을 맞추면 시도 횟수와 함께 \"정답입니다! 시도 횟수: 5회\" 등으로 출력\n",
        "#random.randint() 함수 사용\n",
        "\n",
        "#B : GPT 코딩\n",
        "import random\n",
        "\n",
        "answer = random.randint(1, 100)\n",
        "attempts = 0\n",
        "\n",
        "while True:\n",
        "    guess = int(input(\"숫자를 입력하세요 (1~100): \"))\n",
        "    attempts += 1\n",
        "\n",
        "    if guess > answer:\n",
        "        print(\"Down\")\n",
        "    elif guess < answer:\n",
        "        print(\"Up\")\n",
        "    else:\n",
        "        print(f\"정답입니다! 시도 횟수: {attempts}회\")\n",
        "        break"
      ],
      "metadata": {
        "colab": {
          "base_uri": "https://localhost:8080/"
        },
        "id": "iWVMgUCRrIZ4",
        "outputId": "e1f39831-8b07-44c8-cb16-ae076d71a8e8"
      },
      "execution_count": null,
      "outputs": [
        {
          "output_type": "stream",
          "name": "stdout",
          "text": [
            "숫자를 입력하세요 (1~100): 15\n",
            "Up\n",
            "숫자를 입력하세요 (1~100): 17\n",
            "Up\n",
            "숫자를 입력하세요 (1~100): 20\n",
            "Up\n",
            "숫자를 입력하세요 (1~100): 50\n",
            "Up\n",
            "숫자를 입력하세요 (1~100): 70\n",
            "Down\n",
            "숫자를 입력하세요 (1~100): 60\n",
            "Up\n",
            "숫자를 입력하세요 (1~100): 65\n",
            "Down\n",
            "숫자를 입력하세요 (1~100): 62\n",
            "Down\n",
            "숫자를 입력하세요 (1~100): 61\n",
            "정답입니다! 시도 횟수: 9회\n"
          ]
        }
      ]
    }
  ]
}